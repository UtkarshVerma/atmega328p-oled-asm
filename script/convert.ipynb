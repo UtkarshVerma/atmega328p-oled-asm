{
 "cells": [
  {
   "cell_type": "code",
   "execution_count": 1,
   "metadata": {},
   "outputs": [],
   "source": [
    "import cv2\n",
    "import numpy as np"
   ]
  },
  {
   "cell_type": "code",
   "execution_count": 2,
   "metadata": {},
   "outputs": [],
   "source": [
    "# Resize `frame` according to given dimensions and add padding if necessary\n",
    "def resizeFrame(frame, width, height, inter=cv2.INTER_AREA):\n",
    "    h, w = frame.shape[:2]\n",
    "    dimensions = None\n",
    "\n",
    "    # Top, bottom, left, right borders\n",
    "    borders = [0, 0, 0, 0]\n",
    "\n",
    "    # Rescale video in fit-to-height mode\n",
    "    dimensions = int(np.ceil(w * height / float(h) / 2) * 2), height\n",
    "    \n",
    "    # If width overflows, then go for fit-to-width mode\n",
    "    if dimensions[0] > width:\n",
    "        dimensions = width, int(np.ceil(h * width / float(w) / 2) * 2)\n",
    "        border = int((height - dimensions[1]) / 2)\n",
    "        borders[0:2] = [border, border]\n",
    "    else:\n",
    "        border = int((width - dimensions[0]) / 2)\n",
    "        borders[2:4] = [border, border]\n",
    "\n",
    "    resized = cv2.resize(frame, dimensions, interpolation=inter)\n",
    "    resized = cv2.copyMakeBorder(resized, borders[0], borders[1], borders[2], borders[3], cv2.BORDER_CONSTANT)\n",
    "    return resized\n",
    "\n",
    "# Parse `frame` and return the bitonal bitmap\n",
    "def parseFrame(frame):\n",
    "    frame = resizeFrame(frame, 128, 64)\n",
    "    grayFrame = cv2.cvtColor(frame, cv2.COLOR_RGB2GRAY)\n",
    "    bitmap = np.digitize(grayFrame, [128])\n",
    "    return bitmap\n",
    "\n",
    "# Append `frame` bitmap to `outputFile` according to horizontal mode operation of the OLED display\n",
    "def writeFrame(frame, outputFile):\n",
    "    nPages = 8\n",
    "    pages = [frame[nPages*i:nPages*(i + 1), :] for i in range(0, nPages)]\n",
    "    for page in pages:\n",
    "        for col in range(page.shape[1]):\n",
    "            colList = page[:, col][::-1]\n",
    "            byte = int(''.join(str(e) for e in colList), 2).to_bytes(1, 'little', signed=False)\n",
    "            outputFile.write(byte)\n"
   ]
  },
  {
   "cell_type": "code",
   "execution_count": 3,
   "metadata": {},
   "outputs": [
    {
     "data": {
      "text/plain": "True"
     },
     "execution_count": 3,
     "metadata": {},
     "output_type": "execute_result"
    }
   ],
   "source": [
    "video = cv2.VideoCapture(\"bad-apple.mkv\")\n",
    "video.set(cv2.CAP_PROP_POS_MSEC, 8000)"
   ]
  },
  {
   "cell_type": "code",
   "execution_count": 5,
   "metadata": {},
   "outputs": [
    {
     "data": {
      "text/plain": "13152"
     },
     "execution_count": 5,
     "metadata": {},
     "output_type": "execute_result"
    }
   ],
   "source": [
    "int(video.get(cv2.CAP_PROP_FRAME_COUNT))"
   ]
  },
  {
   "cell_type": "code",
   "execution_count": 17,
   "metadata": {},
   "outputs": [],
   "source": [
    "# Open the file in binary write mode\n",
    "outputFile = open(\"bad-apple.bin\", \"wb\")\n",
    "\n",
    "hasFrame, image = video.read()\n",
    "while hasFrame:\n",
    "    writeFrame(parseFrame(image), outputFile)\n",
    "    hasFrame, image = video.read()\n",
    "\n",
    "# Close the file\n",
    "outputFile.close()"
   ]
  }
 ],
 "metadata": {
  "kernelspec": {
   "display_name": "Python 3.10.0 64-bit",
   "name": "python3100jvsc74a57bd0e7370f93d1d0cde622a1f8e1c04877d8463912d04d973331ad4851f04de6915a"
  },
  "language_info": {
   "codemirror_mode": {
    "name": "ipython",
    "version": 3
   },
   "file_extension": ".py",
   "mimetype": "text/x-python",
   "name": "python",
   "nbconvert_exporter": "python",
   "pygments_lexer": "ipython3",
   "version": "3.10.0"
  },
  "metadata": {
   "interpreter": {
    "hash": "e7370f93d1d0cde622a1f8e1c04877d8463912d04d973331ad4851f04de6915a"
   }
  },
  "orig_nbformat": 2
 },
 "nbformat": 4,
 "nbformat_minor": 2
}